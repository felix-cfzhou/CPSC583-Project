{
 "cells": [
  {
   "cell_type": "code",
   "execution_count": 126,
   "id": "ca3ca19e-8074-4360-90d8-aac336b0337c",
   "metadata": {},
   "outputs": [],
   "source": [
    "import networkx as nx\n",
    "import numpy as np\n",
    "import pandas as pd\n",
    "import matplotlib.pyplot as plt\n",
    "from tqdm import tqdm\n",
    "\n",
    "import gc\n",
    "import pathlib"
   ]
  },
  {
   "cell_type": "code",
   "execution_count": 130,
   "id": "1806ce3d-b22f-4f33-a4b4-6a2e4449b682",
   "metadata": {},
   "outputs": [],
   "source": [
    "%run ../wmis_gnn_py/util/metis.py"
   ]
  },
  {
   "cell_type": "code",
   "execution_count": 20,
   "id": "825be378-7ec2-4343-a941-f45cae706122",
   "metadata": {},
   "outputs": [
    {
     "data": {
      "text/plain": [
       "\u001b[0;31mSignature:\u001b[0m \u001b[0mmetis_to_nx\u001b[0m\u001b[0;34m(\u001b[0m\u001b[0mfilename\u001b[0m\u001b[0;34m:\u001b[0m \u001b[0mstr\u001b[0m\u001b[0;34m)\u001b[0m\u001b[0;34m\u001b[0m\u001b[0;34m\u001b[0m\u001b[0m\n",
       "\u001b[0;31mDocstring:\u001b[0m <no docstring>\n",
       "\u001b[0;31mSource:\u001b[0m   \n",
       "\u001b[0;32mdef\u001b[0m \u001b[0mmetis_to_nx\u001b[0m\u001b[0;34m(\u001b[0m\u001b[0mfilename\u001b[0m\u001b[0;34m:\u001b[0m \u001b[0mstr\u001b[0m\u001b[0;34m)\u001b[0m\u001b[0;34m:\u001b[0m\u001b[0;34m\u001b[0m\n",
       "\u001b[0;34m\u001b[0m    \u001b[0mG\u001b[0m \u001b[0;34m=\u001b[0m \u001b[0mnx\u001b[0m\u001b[0;34m.\u001b[0m\u001b[0mGraph\u001b[0m\u001b[0;34m(\u001b[0m\u001b[0;34m)\u001b[0m\u001b[0;34m\u001b[0m\n",
       "\u001b[0;34m\u001b[0m\u001b[0;34m\u001b[0m\n",
       "\u001b[0;34m\u001b[0m    \u001b[0;32mwith\u001b[0m \u001b[0mopen\u001b[0m\u001b[0;34m(\u001b[0m\u001b[0mfilename\u001b[0m\u001b[0;34m,\u001b[0m \u001b[0;34m\"r\"\u001b[0m\u001b[0;34m)\u001b[0m \u001b[0;32mas\u001b[0m \u001b[0mf\u001b[0m\u001b[0;34m:\u001b[0m\u001b[0;34m\u001b[0m\n",
       "\u001b[0;34m\u001b[0m        \u001b[0;32mfor\u001b[0m \u001b[0mline_num\u001b[0m\u001b[0;34m,\u001b[0m \u001b[0mline\u001b[0m \u001b[0;32min\u001b[0m \u001b[0menumerate\u001b[0m\u001b[0;34m(\u001b[0m\u001b[0mf\u001b[0m\u001b[0;34m)\u001b[0m\u001b[0;34m:\u001b[0m\u001b[0;34m\u001b[0m\n",
       "\u001b[0;34m\u001b[0m            \u001b[0;32mif\u001b[0m \u001b[0mline_num\u001b[0m \u001b[0;34m==\u001b[0m \u001b[0;36m0\u001b[0m\u001b[0;34m:\u001b[0m\u001b[0;34m\u001b[0m\n",
       "\u001b[0;34m\u001b[0m                \u001b[0mn_vertices\u001b[0m\u001b[0;34m,\u001b[0m \u001b[0mn_edges\u001b[0m\u001b[0;34m,\u001b[0m \u001b[0mgraph_type\u001b[0m \u001b[0;34m=\u001b[0m \u001b[0mmap\u001b[0m\u001b[0;34m(\u001b[0m\u001b[0mint\u001b[0m\u001b[0;34m,\u001b[0m \u001b[0mline\u001b[0m\u001b[0;34m.\u001b[0m\u001b[0msplit\u001b[0m\u001b[0;34m(\u001b[0m\u001b[0;34m\" \"\u001b[0m\u001b[0;34m)\u001b[0m\u001b[0;34m)\u001b[0m\u001b[0;34m\u001b[0m\n",
       "\u001b[0;34m\u001b[0m\u001b[0;34m\u001b[0m\n",
       "\u001b[0;34m\u001b[0m                \u001b[0;32massert\u001b[0m \u001b[0mn_vertices\u001b[0m \u001b[0;34m>=\u001b[0m \u001b[0;36m0\u001b[0m\u001b[0;34m\u001b[0m\n",
       "\u001b[0;34m\u001b[0m                \u001b[0;32massert\u001b[0m \u001b[0mn_edges\u001b[0m \u001b[0;34m>=\u001b[0m \u001b[0;36m0\u001b[0m\u001b[0;34m\u001b[0m\n",
       "\u001b[0;34m\u001b[0m                \u001b[0;32massert\u001b[0m \u001b[0mgraph_type\u001b[0m \u001b[0;34m==\u001b[0m \u001b[0;36m10\u001b[0m\u001b[0;34m\u001b[0m\n",
       "\u001b[0;34m\u001b[0m\u001b[0;34m\u001b[0m\n",
       "\u001b[0;34m\u001b[0m                \u001b[0;32mcontinue\u001b[0m\u001b[0;34m\u001b[0m\n",
       "\u001b[0;34m\u001b[0m\u001b[0;34m\u001b[0m\n",
       "\u001b[0;34m\u001b[0m            \u001b[0;32mif\u001b[0m \u001b[0mline\u001b[0m\u001b[0;34m[\u001b[0m\u001b[0;36m0\u001b[0m\u001b[0;34m]\u001b[0m \u001b[0;34m==\u001b[0m \u001b[0;34m\"%\"\u001b[0m\u001b[0;34m:\u001b[0m\u001b[0;34m\u001b[0m\n",
       "\u001b[0;34m\u001b[0m                \u001b[0;32mcontinue\u001b[0m\u001b[0;34m\u001b[0m\n",
       "\u001b[0;34m\u001b[0m\u001b[0;34m\u001b[0m\n",
       "\u001b[0;34m\u001b[0m            \u001b[0mnode_weight\u001b[0m\u001b[0;34m,\u001b[0m \u001b[0;34m*\u001b[0m\u001b[0mneighbors\u001b[0m \u001b[0;34m=\u001b[0m \u001b[0mmap\u001b[0m\u001b[0;34m(\u001b[0m\u001b[0mint\u001b[0m\u001b[0;34m,\u001b[0m \u001b[0mline\u001b[0m\u001b[0;34m.\u001b[0m\u001b[0msplit\u001b[0m\u001b[0;34m(\u001b[0m\u001b[0;34m\" \"\u001b[0m\u001b[0;34m)\u001b[0m\u001b[0;34m)\u001b[0m\u001b[0;34m\u001b[0m\n",
       "\u001b[0;34m\u001b[0m\u001b[0;34m\u001b[0m\n",
       "\u001b[0;34m\u001b[0m            \u001b[0;32massert\u001b[0m \u001b[0mnode_weight\u001b[0m \u001b[0;34m>\u001b[0m \u001b[0;36m0\u001b[0m\u001b[0;34m\u001b[0m\n",
       "\u001b[0;34m\u001b[0m\u001b[0;34m\u001b[0m\n",
       "\u001b[0;34m\u001b[0m            \u001b[0mG\u001b[0m\u001b[0;34m.\u001b[0m\u001b[0madd_node\u001b[0m\u001b[0;34m(\u001b[0m\u001b[0mline_num\u001b[0m\u001b[0;34m,\u001b[0m \u001b[0mweight\u001b[0m\u001b[0;34m=\u001b[0m\u001b[0mnode_weight\u001b[0m\u001b[0;34m)\u001b[0m\u001b[0;34m\u001b[0m\n",
       "\u001b[0;34m\u001b[0m\u001b[0;34m\u001b[0m\n",
       "\u001b[0;34m\u001b[0m            \u001b[0;32mfor\u001b[0m \u001b[0mv\u001b[0m \u001b[0;32min\u001b[0m \u001b[0mneighbors\u001b[0m\u001b[0;34m:\u001b[0m\u001b[0;34m\u001b[0m\n",
       "\u001b[0;34m\u001b[0m                \u001b[0;32massert\u001b[0m \u001b[0;36m1\u001b[0m \u001b[0;34m<=\u001b[0m \u001b[0mv\u001b[0m \u001b[0;34m<=\u001b[0m \u001b[0mn_vertices\u001b[0m\u001b[0;34m\u001b[0m\n",
       "\u001b[0;34m\u001b[0m                \u001b[0mG\u001b[0m\u001b[0;34m.\u001b[0m\u001b[0madd_edge\u001b[0m\u001b[0;34m(\u001b[0m\u001b[0mline_num\u001b[0m\u001b[0;34m,\u001b[0m \u001b[0mv\u001b[0m\u001b[0;34m)\u001b[0m\u001b[0;34m\u001b[0m\n",
       "\u001b[0;34m\u001b[0m\u001b[0;34m\u001b[0m\n",
       "\u001b[0;34m\u001b[0m        \u001b[0;32massert\u001b[0m \u001b[0mG\u001b[0m\u001b[0;34m.\u001b[0m\u001b[0msize\u001b[0m\u001b[0;34m(\u001b[0m\u001b[0;34m)\u001b[0m \u001b[0;34m==\u001b[0m \u001b[0mn_edges\u001b[0m\u001b[0;34m\u001b[0m\n",
       "\u001b[0;34m\u001b[0m\u001b[0;34m\u001b[0m\n",
       "\u001b[0;34m\u001b[0m    \u001b[0;32mreturn\u001b[0m \u001b[0mG\u001b[0m\u001b[0;34m\u001b[0m\u001b[0;34m\u001b[0m\u001b[0m\n",
       "\u001b[0;31mFile:\u001b[0m      /gpfs/gibbs/project/karbasi/cz397/CPSC583-Project/wmis_gnn_py/util/metis.py\n",
       "\u001b[0;31mType:\u001b[0m      function\n"
      ]
     },
     "metadata": {},
     "output_type": "display_data"
    }
   ],
   "source": [
    "metis_to_nx??"
   ]
  },
  {
   "cell_type": "code",
   "execution_count": 123,
   "id": "2326fbeb-4012-44fb-9722-caa13c35941d",
   "metadata": {},
   "outputs": [],
   "source": [
    "def summarize_graph(G: nx.Graph, name: str):\n",
    "    n_nodes = G.order()\n",
    "    n_edges = G.size()\n",
    "    avg_deg = 2*n_edges / n_nodes\n",
    "    n_components = nx.number_connected_components(G)\n",
    "    n_isolates = nx.number_of_isolates(G)\n",
    "    sum_weights = sum(G.nodes[v][\"weight\"] for v in range(1, G.order()+1))\n",
    "    # s_metric = nx.s_metric(G, normalized=False)\n",
    "\n",
    "    # is_chordal = nx.is_chordal(G)\n",
    "    # is_planar = nx.is_planar(G)\n",
    "    # is_eulerian = nx.is_eulerian(G)\n",
    "    # is_regular = nx.is_regular(G)\n",
    "    \n",
    "    return {\"name\": name,\n",
    "            \"n_nodes\": n_nodes, \n",
    "            \"n_edges\": n_edges, \n",
    "            \"avg_deg\": avg_deg, \n",
    "            \"n_components\": n_components, \n",
    "            \"n_isolates\": n_isolates,\n",
    "            \"sum_weights\": sum_weights,\n",
    "            # \"s_metric\": s_metric,\n",
    "            # \"is_planar\": is_planar,\n",
    "            # \"is_chordal\": is_chordal,\n",
    "            # \"is_eulerian\": is_eulerian,\n",
    "            # \"is_regular\": is_regular,\n",
    "           }"
   ]
  },
  {
   "cell_type": "markdown",
   "id": "fcdb085a-31c7-4e83-90a2-d56751823e13",
   "metadata": {
    "tags": []
   },
   "source": [
    "# Small Erdos-Reyni Graphs"
   ]
  },
  {
   "cell_type": "code",
   "execution_count": 131,
   "id": "a1b54e89-9897-4e08-ab15-0a3d95685a8d",
   "metadata": {},
   "outputs": [
    {
     "name": "stderr",
     "output_type": "stream",
     "text": [
      "100%|██████████| 1000/1000 [05:39<00:00,  2.95it/s]\n"
     ]
    },
    {
     "data": {
      "text/html": [
       "<div>\n",
       "<style scoped>\n",
       "    .dataframe tbody tr th:only-of-type {\n",
       "        vertical-align: middle;\n",
       "    }\n",
       "\n",
       "    .dataframe tbody tr th {\n",
       "        vertical-align: top;\n",
       "    }\n",
       "\n",
       "    .dataframe thead th {\n",
       "        text-align: right;\n",
       "    }\n",
       "</style>\n",
       "<table border=\"1\" class=\"dataframe\">\n",
       "  <thead>\n",
       "    <tr style=\"text-align: right;\">\n",
       "      <th></th>\n",
       "      <th>n_nodes</th>\n",
       "      <th>n_edges</th>\n",
       "      <th>avg_deg</th>\n",
       "      <th>n_components</th>\n",
       "      <th>n_isolates</th>\n",
       "      <th>sum_weights</th>\n",
       "      <th>kamis_weight</th>\n",
       "    </tr>\n",
       "    <tr>\n",
       "      <th>name</th>\n",
       "      <th></th>\n",
       "      <th></th>\n",
       "      <th></th>\n",
       "      <th></th>\n",
       "      <th></th>\n",
       "      <th></th>\n",
       "      <th></th>\n",
       "    </tr>\n",
       "  </thead>\n",
       "  <tbody>\n",
       "    <tr>\n",
       "      <th>erdos-reyni-n200-p0.1--maxw400-seed20_0</th>\n",
       "      <td>200</td>\n",
       "      <td>2013</td>\n",
       "      <td>20.13</td>\n",
       "      <td>1</td>\n",
       "      <td>0</td>\n",
       "      <td>37549</td>\n",
       "      <td>9554</td>\n",
       "    </tr>\n",
       "    <tr>\n",
       "      <th>erdos-reyni-n200-p0.1--maxw400-seed20_1</th>\n",
       "      <td>200</td>\n",
       "      <td>2011</td>\n",
       "      <td>20.11</td>\n",
       "      <td>1</td>\n",
       "      <td>0</td>\n",
       "      <td>44998</td>\n",
       "      <td>11051</td>\n",
       "    </tr>\n",
       "    <tr>\n",
       "      <th>erdos-reyni-n200-p0.1--maxw400-seed20_10</th>\n",
       "      <td>200</td>\n",
       "      <td>1971</td>\n",
       "      <td>19.71</td>\n",
       "      <td>1</td>\n",
       "      <td>0</td>\n",
       "      <td>42487</td>\n",
       "      <td>10119</td>\n",
       "    </tr>\n",
       "    <tr>\n",
       "      <th>erdos-reyni-n200-p0.1--maxw400-seed20_100</th>\n",
       "      <td>200</td>\n",
       "      <td>1894</td>\n",
       "      <td>18.94</td>\n",
       "      <td>1</td>\n",
       "      <td>0</td>\n",
       "      <td>40930</td>\n",
       "      <td>10334</td>\n",
       "    </tr>\n",
       "    <tr>\n",
       "      <th>erdos-reyni-n200-p0.1--maxw400-seed20_101</th>\n",
       "      <td>200</td>\n",
       "      <td>1905</td>\n",
       "      <td>19.05</td>\n",
       "      <td>1</td>\n",
       "      <td>0</td>\n",
       "      <td>37630</td>\n",
       "      <td>9988</td>\n",
       "    </tr>\n",
       "    <tr>\n",
       "      <th>...</th>\n",
       "      <td>...</td>\n",
       "      <td>...</td>\n",
       "      <td>...</td>\n",
       "      <td>...</td>\n",
       "      <td>...</td>\n",
       "      <td>...</td>\n",
       "      <td>...</td>\n",
       "    </tr>\n",
       "    <tr>\n",
       "      <th>erdos-reyni-n200-p0.1--maxw400-seed20_995</th>\n",
       "      <td>200</td>\n",
       "      <td>1981</td>\n",
       "      <td>19.81</td>\n",
       "      <td>1</td>\n",
       "      <td>0</td>\n",
       "      <td>37785</td>\n",
       "      <td>10143</td>\n",
       "    </tr>\n",
       "    <tr>\n",
       "      <th>erdos-reyni-n200-p0.1--maxw400-seed20_996</th>\n",
       "      <td>200</td>\n",
       "      <td>1942</td>\n",
       "      <td>19.42</td>\n",
       "      <td>1</td>\n",
       "      <td>0</td>\n",
       "      <td>41687</td>\n",
       "      <td>10311</td>\n",
       "    </tr>\n",
       "    <tr>\n",
       "      <th>erdos-reyni-n200-p0.1--maxw400-seed20_997</th>\n",
       "      <td>200</td>\n",
       "      <td>1996</td>\n",
       "      <td>19.96</td>\n",
       "      <td>1</td>\n",
       "      <td>0</td>\n",
       "      <td>42427</td>\n",
       "      <td>10586</td>\n",
       "    </tr>\n",
       "    <tr>\n",
       "      <th>erdos-reyni-n200-p0.1--maxw400-seed20_998</th>\n",
       "      <td>200</td>\n",
       "      <td>1992</td>\n",
       "      <td>19.92</td>\n",
       "      <td>1</td>\n",
       "      <td>0</td>\n",
       "      <td>42438</td>\n",
       "      <td>11099</td>\n",
       "    </tr>\n",
       "    <tr>\n",
       "      <th>erdos-reyni-n200-p0.1--maxw400-seed20_999</th>\n",
       "      <td>200</td>\n",
       "      <td>2040</td>\n",
       "      <td>20.40</td>\n",
       "      <td>1</td>\n",
       "      <td>0</td>\n",
       "      <td>37558</td>\n",
       "      <td>9601</td>\n",
       "    </tr>\n",
       "  </tbody>\n",
       "</table>\n",
       "<p>1000 rows × 7 columns</p>\n",
       "</div>"
      ],
      "text/plain": [
       "                                           n_nodes  n_edges  avg_deg  \\\n",
       "name                                                                   \n",
       "erdos-reyni-n200-p0.1--maxw400-seed20_0        200     2013    20.13   \n",
       "erdos-reyni-n200-p0.1--maxw400-seed20_1        200     2011    20.11   \n",
       "erdos-reyni-n200-p0.1--maxw400-seed20_10       200     1971    19.71   \n",
       "erdos-reyni-n200-p0.1--maxw400-seed20_100      200     1894    18.94   \n",
       "erdos-reyni-n200-p0.1--maxw400-seed20_101      200     1905    19.05   \n",
       "...                                            ...      ...      ...   \n",
       "erdos-reyni-n200-p0.1--maxw400-seed20_995      200     1981    19.81   \n",
       "erdos-reyni-n200-p0.1--maxw400-seed20_996      200     1942    19.42   \n",
       "erdos-reyni-n200-p0.1--maxw400-seed20_997      200     1996    19.96   \n",
       "erdos-reyni-n200-p0.1--maxw400-seed20_998      200     1992    19.92   \n",
       "erdos-reyni-n200-p0.1--maxw400-seed20_999      200     2040    20.40   \n",
       "\n",
       "                                           n_components  n_isolates  \\\n",
       "name                                                                  \n",
       "erdos-reyni-n200-p0.1--maxw400-seed20_0               1           0   \n",
       "erdos-reyni-n200-p0.1--maxw400-seed20_1               1           0   \n",
       "erdos-reyni-n200-p0.1--maxw400-seed20_10              1           0   \n",
       "erdos-reyni-n200-p0.1--maxw400-seed20_100             1           0   \n",
       "erdos-reyni-n200-p0.1--maxw400-seed20_101             1           0   \n",
       "...                                                 ...         ...   \n",
       "erdos-reyni-n200-p0.1--maxw400-seed20_995             1           0   \n",
       "erdos-reyni-n200-p0.1--maxw400-seed20_996             1           0   \n",
       "erdos-reyni-n200-p0.1--maxw400-seed20_997             1           0   \n",
       "erdos-reyni-n200-p0.1--maxw400-seed20_998             1           0   \n",
       "erdos-reyni-n200-p0.1--maxw400-seed20_999             1           0   \n",
       "\n",
       "                                           sum_weights  kamis_weight  \n",
       "name                                                                  \n",
       "erdos-reyni-n200-p0.1--maxw400-seed20_0          37549          9554  \n",
       "erdos-reyni-n200-p0.1--maxw400-seed20_1          44998         11051  \n",
       "erdos-reyni-n200-p0.1--maxw400-seed20_10         42487         10119  \n",
       "erdos-reyni-n200-p0.1--maxw400-seed20_100        40930         10334  \n",
       "erdos-reyni-n200-p0.1--maxw400-seed20_101        37630          9988  \n",
       "...                                                ...           ...  \n",
       "erdos-reyni-n200-p0.1--maxw400-seed20_995        37785         10143  \n",
       "erdos-reyni-n200-p0.1--maxw400-seed20_996        41687         10311  \n",
       "erdos-reyni-n200-p0.1--maxw400-seed20_997        42427         10586  \n",
       "erdos-reyni-n200-p0.1--maxw400-seed20_998        42438         11099  \n",
       "erdos-reyni-n200-p0.1--maxw400-seed20_999        37558          9601  \n",
       "\n",
       "[1000 rows x 7 columns]"
      ]
     },
     "execution_count": 131,
     "metadata": {},
     "output_type": "execute_result"
    }
   ],
   "source": [
    "rows = []\n",
    "\n",
    "ind_base = pathlib.Path(\"../data/erdos_reyni_small/label/\")\n",
    "\n",
    "graph_paths = list(yield_metis_filenames(\"../data/erdos_reyni_small/\"))\n",
    "ind_paths = set(path.stem for path in yield_solution_filenames(ind_base.resolve()))\n",
    "for graph_path in tqdm(graph_paths):\n",
    "    G = metis_to_nx(graph_path.resolve())\n",
    "    summary_dict = summarize_graph(G, graph_path.stem)\n",
    "    summary_dict[\"kamis_weight\"] = -np.inf\n",
    "    \n",
    "    if graph_path.stem in ind_paths:\n",
    "        ind_path = ind_base / graph_path.with_suffix(\".ind\").name\n",
    "        solution_to_nx(G, ind_path.resolve())\n",
    "        solution_weight = sum(G.nodes[v][\"weight\"] for v in range(1, G.order()+1) if G.nodes[v][\"solution\"] == 1)\n",
    "        summary_dict[\"kamis_weight\"] = solution_weight\n",
    "    \n",
    "    rows.append(pd.Series(summary_dict))\n",
    "    \n",
    "    gc.collect()\n",
    "    \n",
    "df_er = pd.DataFrame(rows).set_index(\"name\")\n",
    "df_er"
   ]
  },
  {
   "cell_type": "code",
   "execution_count": 133,
   "id": "25cb16d8-11df-4786-acdd-9d87ae5be538",
   "metadata": {},
   "outputs": [
    {
     "data": {
      "image/png": "[encoded data removed]",
      "text/plain": [
       "<Figure size 640x480 with 1 Axes>"
      ]
     },
     "metadata": {},
     "output_type": "display_data"
    }
   ],
   "source": [
    "plt.hist(df_er.kamis_weight / df_er.sum_weights, log=True)\n",
    "plt.show()"
   ]
  },
  {
   "cell_type": "code",
   "execution_count": 134,
   "id": "b406750e-d322-4e7d-b408-21822bb61c39",
   "metadata": {},
   "outputs": [
    {
     "data": {
      "text/plain": [
       "<AxesSubplot: >"
      ]
     },
     "execution_count": 134,
     "metadata": {},
     "output_type": "execute_result"
    },
    {
     "data": {
      "image/png": "[encoded data removed]",
      "text/plain": [
       "<Figure size 640x480 with 1 Axes>"
      ]
     },
     "metadata": {},
     "output_type": "display_data"
    }
   ],
   "source": [
    "df_er.avg_deg.hist(log=True)"
   ]
  },
  {
   "cell_type": "code",
   "execution_count": 135,
   "id": "18b58dc0-768f-4fed-b53f-8124f85f7e49",
   "metadata": {},
   "outputs": [
    {
     "data": {
      "text/plain": [
       "<AxesSubplot: >"
      ]
     },
     "execution_count": 135,
     "metadata": {},
     "output_type": "execute_result"
    },
    {
     "data": {
      "image/png": "[encoded data removed]",
      "text/plain": [
       "<Figure size 640x480 with 1 Axes>"
      ]
     },
     "metadata": {},
     "output_type": "display_data"
    }
   ],
   "source": [
    "df_er.n_components.hist(log=True)"
   ]
  },
  {
   "cell_type": "markdown",
   "id": "c669be88-b513-4ce9-8015-f0c314e108b7",
   "metadata": {
    "tags": []
   },
   "source": [
    "# PACE 2019 Competition Graphs"
   ]
  },
  {
   "cell_type": "code",
   "execution_count": null,
   "id": "9c70d3bf-792b-494a-8b4a-54f988bebf73",
   "metadata": {},
   "outputs": [],
   "source": [
    "rows = []\n",
    "\n",
    "filepaths = list(yield_metis_filenames(\"../data/pace_unweighted/\"))\n",
    "for filepath in tqdm(filepaths):\n",
    "    path = filepath.resolve()\n",
    "    # print(path)\n",
    "    G = metis_to_nx(path)\n",
    "    rows.append(pd.Series(summarize_graph(G, path.stem)))\n",
    "    \n",
    "    gc.collect()\n",
    "    \n",
    "df_pace = pd.DataFrame(rows).set_index(\"name\")\n",
    "df_pace"
   ]
  },
  {
   "cell_type": "code",
   "execution_count": 106,
   "id": "1c6c3017-dc24-4576-9f75-979f140f2f79",
   "metadata": {},
   "outputs": [
    {
     "data": {
      "text/plain": [
       "<AxesSubplot: >"
      ]
     },
     "execution_count": 106,
     "metadata": {},
     "output_type": "execute_result"
    },
    {
     "data": {
      "image/png": "[encoded data removed]",
      "text/plain": [
       "<Figure size 640x480 with 1 Axes>"
      ]
     },
     "metadata": {},
     "output_type": "display_data"
    }
   ],
   "source": [
    "df_pace.avg_deg.hist(log=True)"
   ]
  },
  {
   "cell_type": "code",
   "execution_count": 108,
   "id": "bedb5b19-34fd-4340-b5fe-3a2254de153a",
   "metadata": {},
   "outputs": [
    {
     "data": {
      "text/plain": [
       "<AxesSubplot: >"
      ]
     },
     "execution_count": 108,
     "metadata": {},
     "output_type": "execute_result"
    },
    {
     "data": {
      "image/png": "[encoded data removed]",
      "text/plain": [
       "<Figure size 640x480 with 1 Axes>"
      ]
     },
     "metadata": {},
     "output_type": "display_data"
    }
   ],
   "source": [
    "df_pace.n_nodes.hist(log=True)"
   ]
  },
  {
   "cell_type": "code",
   "execution_count": 110,
   "id": "15fdd0e0-ff4a-4eb0-a0f9-d8c93a1b0f9c",
   "metadata": {},
   "outputs": [
    {
     "data": {
      "text/plain": [
       "<AxesSubplot: >"
      ]
     },
     "execution_count": 110,
     "metadata": {},
     "output_type": "execute_result"
    },
    {
     "data": {
      "image/png": "[encoded data removed]",
      "text/plain": [
       "<Figure size 640x480 with 1 Axes>"
      ]
     },
     "metadata": {},
     "output_type": "display_data"
    }
   ],
   "source": [
    "df_pace.n_edges.hist(log=True)"
   ]
  },
  {
   "cell_type": "code",
   "execution_count": 109,
   "id": "48dfabbc-1fc8-4fb0-8067-68350df46aa6",
   "metadata": {},
   "outputs": [
    {
     "data": {
      "text/plain": [
       "<AxesSubplot: >"
      ]
     },
     "execution_count": 109,
     "metadata": {},
     "output_type": "execute_result"
    },
    {
     "data": {
      "image/png": "[encoded data removed]",
      "text/plain": [
       "<Figure size 640x480 with 1 Axes>"
      ]
     },
     "metadata": {},
     "output_type": "display_data"
    }
   ],
   "source": [
    "df_pace.n_components.hist(log=True)"
   ]
  },
  {
   "cell_type": "code",
   "execution_count": null,
   "id": "257637b6-89ac-4b01-a806-0799abf99198",
   "metadata": {},
   "outputs": [],
   "source": []
  }
 ],
 "metadata": {
  "kernelspec": {
   "display_name": "Python 3 (ipykernel)",
   "language": "python",
   "name": "python3"
  },
  "language_info": {
   "codemirror_mode": {
    "name": "ipython",
    "version": 3
   },
   "file_extension": ".py",
   "mimetype": "text/x-python",
   "name": "python",
   "nbconvert_exporter": "python",
   "pygments_lexer": "ipython3",
   "version": "3.9.13"
  }
 },
 "nbformat": 4,
 "nbformat_minor": 5
}
